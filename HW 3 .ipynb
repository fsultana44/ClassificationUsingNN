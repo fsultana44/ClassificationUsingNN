{
 "cells": [
  {
   "cell_type": "code",
   "execution_count": 1,
   "metadata": {},
   "outputs": [],
   "source": [
    "from __future__ import print_function, division\n",
    "import os\n",
    "from torch import nn\n",
    "import torch,torchvision\n",
    "import pandas as pd\n",
    "import pandas\n",
    "from torchvision.transforms import transforms\n",
    "import numpy as np\n",
    "import matplotlib.pyplot as plt\n",
    "from torch.utils.data import Dataset, DataLoader\n",
    "from torchvision import transforms, utils\n",
    "from PIL import Image\n",
    "import numpy as np\n",
    "import torch\n",
    "import glob\n",
    "from torch.utils.data import Dataset, DataLoader\n",
    "\n",
    "import matplotlib.pyplot as plt"
   ]
  },
  {
   "cell_type": "code",
   "execution_count": 2,
   "metadata": {},
   "outputs": [],
   "source": [
    "Train_path = '/home/fatema/Downloads/homework/datasetB/midcrops64x64/*.npy'\n",
    "\n",
    "Test_path = '/home/fatema/Downloads/homework/datasetA/p26crops/*.npy'\n",
    "\n",
    "\n",
    "MODEL_STORE_PATH= '/home/fatema/Downloads/homework/'"
   ]
  },
  {
   "cell_type": "code",
   "execution_count": 3,
   "metadata": {},
   "outputs": [],
   "source": [
    "def npy_loader(path, side):\n",
    "    ### loading and appending data and target of one leg ###\n",
    "\n",
    "    p_id = []\n",
    "    data= []\n",
    "    grade = []\n",
    "\n",
    "    # opening files of the directory\n",
    "    fname = glob.glob(path)\n",
    "\n",
    "    # loading and appending\n",
    "    for file in fname:\n",
    "        patch, id = np.load(file,allow_pickle=True)\n",
    "\n",
    "        data.append(patch[ side ])\n",
    "        grade.append(patch[ 'grade' + side ])\n",
    "        p_id.append(id)\n",
    "\n",
    "    return np.array(data), np.array(grade), p_id"
   ]
  },
  {
   "cell_type": "code",
   "execution_count": 4,
   "metadata": {},
   "outputs": [],
   "source": [
    "class AOIdataset(Dataset):\n",
    "\n",
    "    def __init__(self, data, target, transform=None):\n",
    "        self.data = torch.from_numpy(data).float()\n",
    "        self.target = torch.from_numpy(target).long()\n",
    "        self.transform = transform\n",
    "\n",
    "    def __getitem__(self, index):\n",
    "        x = self.data[index]\n",
    "        y = self.target[index]\n",
    "\n",
    "        if self.transform:\n",
    "            x = self.transform(x)\n",
    "\n",
    "        return x, y\n",
    "\n",
    "    def __len__(self):\n",
    "        return len(self.data)\n",
    "\n"
   ]
  },
  {
   "cell_type": "code",
   "execution_count": 24,
   "metadata": {},
   "outputs": [],
   "source": [
    "\n",
    "Train_Ls, Tn_grade ,Tn_id = npy_loader(Train_path, 'L')\n",
    "\n",
    "test_Ls, Ts_grade ,Ts_id = npy_loader(Test_path, 'L')\n",
    "\n",
    "Train_dataset = AOIdataset(Train_Ls, Tn_grade)\n",
    "\n",
    "Test_dataset = AOIdataset(test_Ls, Ts_grade)\n",
    "\n",
    "train_loader = DataLoader(\n",
    "    Train_dataset,\n",
    "    batch_size=50,\n",
    "    shuffle=True\n",
    ")\n",
    "\n",
    "\n",
    "test_loader = DataLoader(\n",
    "    Test_dataset,\n",
    "    batch_size=50,\n",
    "    shuffle=True\n",
    ")\n",
    "\n"
   ]
  },
  {
   "cell_type": "code",
   "execution_count": 25,
   "metadata": {},
   "outputs": [
    {
     "data": {
      "text/plain": [
       "4506"
      ]
     },
     "execution_count": 25,
     "metadata": {},
     "output_type": "execute_result"
    }
   ],
   "source": [
    "len(Train_dataset)"
   ]
  },
  {
   "cell_type": "code",
   "execution_count": 33,
   "metadata": {},
   "outputs": [
    {
     "ename": "IndentationError",
     "evalue": "unindent does not match any outer indentation level (<tokenize>, line 19)",
     "output_type": "error",
     "traceback": [
      "\u001b[0;36m  File \u001b[0;32m\"<tokenize>\"\u001b[0;36m, line \u001b[0;32m19\u001b[0m\n\u001b[0;31m    def forward(self, x):\u001b[0m\n\u001b[0m    ^\u001b[0m\n\u001b[0;31mIndentationError\u001b[0m\u001b[0;31m:\u001b[0m unindent does not match any outer indentation level\n"
     ]
    }
   ],
   "source": [
    "class ConvNet(nn.Module):\n",
    "    def __init__(self):\n",
    "            super(ConvNet, self).__init__()\n",
    "          # Convolution 1\n",
    "            self.layer1 = nn.Sequential(\n",
    "                nn.Conv2d(1, 32, kernel_size=5, stride=1, padding=2),\n",
    "                nn.ReLU(),\n",
    "                nn.MaxPool2d(kernel_size=2, stride=2)) # maxpolling layer 1\n",
    "          # Convolution 1\n",
    "             self.layer2 = nn.Sequential(\n",
    "                nn.Conv2d(32, 64, kernel_size=5, stride=1, padding=2),\n",
    "                nn.ReLU(),\n",
    "                nn.MaxPool2d(kernel_size=2, stride=2))\n",
    "            self.drop_out = nn.Dropout(0.2)\n",
    "          # Fully connected\n",
    "             self.fc1 = nn.Linear(16 * 16 * 64, 1000)\n",
    "            self.fc2 = nn.Linear(1000, 2)\n",
    "\n",
    "        def forward(self, x):\n",
    "              out = self.layer1(x)\n",
    "              out = self.layer2(out)\n",
    "              out = out.reshape(out.size(0), -1)\n",
    "              out = self.drop_out(out)\n",
    "              out = self.fc1(out)\n",
    "              out = self.fc2(out)\n",
    "             return out\n"
   ]
  },
  {
   "cell_type": "code",
   "execution_count": 34,
   "metadata": {},
   "outputs": [],
   "source": [
    "model = ConvNet()\n"
   ]
  },
  {
   "cell_type": "code",
   "execution_count": 35,
   "metadata": {},
   "outputs": [
    {
     "name": "stdout",
     "output_type": "stream",
     "text": [
      "ConvNet(\n",
      "  (layer1): Sequential(\n",
      "    (0): Conv2d(1, 32, kernel_size=(5, 5), stride=(1, 1), padding=(2, 2))\n",
      "    (1): ReLU()\n",
      "    (2): MaxPool2d(kernel_size=2, stride=2, padding=0, dilation=1, ceil_mode=False)\n",
      "  )\n",
      "  (layer2): Sequential(\n",
      "    (0): Conv2d(32, 64, kernel_size=(5, 5), stride=(1, 1), padding=(2, 2))\n",
      "    (1): ReLU()\n",
      "    (2): MaxPool2d(kernel_size=2, stride=2, padding=0, dilation=1, ceil_mode=False)\n",
      "  )\n",
      "  (drop_out): Dropout(p=0.2)\n",
      "  (fc1): Linear(in_features=16384, out_features=1000, bias=True)\n",
      "  (fc2): Linear(in_features=1000, out_features=2, bias=True)\n",
      ")\n"
     ]
    }
   ],
   "source": [
    "print(model)"
   ]
  },
  {
   "cell_type": "code",
   "execution_count": 36,
   "metadata": {},
   "outputs": [],
   "source": [
    "costFunction = nn.CrossEntropyLoss()\n",
    "optimizer = torch.optim.Adam(model.parameters(),lr=0.005)"
   ]
  },
  {
   "cell_type": "code",
   "execution_count": 44,
   "metadata": {},
   "outputs": [],
   "source": [
    "def train_model(epochs):\n",
    "    model.train() #set the model to training mode\n",
    "    for epoch in range(epochs):\n",
    "        losses = []\n",
    "        num_times=0\n",
    "        closs = 0\n",
    "        for i,batch in enumerate(train_loader,0):\n",
    "            # Run the forward pass\n",
    "            data , output = batch\n",
    "            data=data.unsqueeze(1).type(torch.FloatTensor)\n",
    "            # Forward pass to get logits\n",
    "            prediction = model(data)\n",
    "            # Calculate Loss:\n",
    "            loss = costFunction(prediction,output)\n",
    "            closs += loss.item()\n",
    "            # Clear gradients w.r.t. parameters\n",
    "            optimizer.zero_grad()\n",
    "            loss.backward()\n",
    "            # Updating parameters\n",
    "            optimizer.step()\n",
    "            #Track every 100th loss\n",
    "            if i%100 == 0:\n",
    "                losses.append(loss.item())\n",
    "                num_times = num_times + 1\n",
    "\n",
    "            #print every 100th time\n",
    "            if i%100 == 0:\n",
    "                print('[%d  %d] loss: %.4f'% (epoch+1,i+1,closs/100))\n",
    "                closs = 0\n",
    "        #Calculate the accuracy and save the model state\n",
    "                accuracy()\n",
    "                #Plot the graph of loss with iteration\n",
    "                plt.plot([i for i in range(num_times)],losses,label='epoch'+str(epoch))\n",
    "                plt.legend(loc=1,mode='expanded',shadow=True,ncol=2)\n",
    "                plt.show()"
   ]
  },
  {
   "cell_type": "code",
   "execution_count": 39,
   "metadata": {},
   "outputs": [
    {
     "data": {
      "text/plain": [
       "[7.333990097045898,\n",
       " 50130.44140625,\n",
       " 2352.23388671875,\n",
       " 5052.3603515625,\n",
       " 2076.708251953125,\n",
       " 141.15679931640625,\n",
       " 1.2136597633361816,\n",
       " 3.294865131378174,\n",
       " 0.7452667355537415,\n",
       " 0.7261361479759216,\n",
       " 0.7160295844078064,\n",
       " 0.6957051753997803,\n",
       " 0.6991872191429138,\n",
       " 0.7011696100234985,\n",
       " 0.6946947574615479,\n",
       " 0.6896585822105408,\n",
       " 0.6923500895500183,\n",
       " 0.7018131017684937,\n",
       " 0.6746672987937927,\n",
       " 0.6568920612335205,\n",
       " 7.897899150848389,\n",
       " 0.8240857124328613,\n",
       " 0.7314413189888,\n",
       " 0.7317672967910767,\n",
       " 0.7402195930480957,\n",
       " 0.7589778304100037,\n",
       " 0.6850327253341675,\n",
       " 0.7258141040802002,\n",
       " 0.6674772500991821,\n",
       " 0.6780795454978943,\n",
       " 0.6980906128883362,\n",
       " 0.6837518811225891,\n",
       " 0.6984246969223022,\n",
       " 0.6941797733306885,\n",
       " 0.6912884712219238,\n",
       " 0.6752737164497375,\n",
       " 0.6875218152999878,\n",
       " 0.6923474669456482,\n",
       " 0.6901106238365173,\n",
       " 0.692046582698822,\n",
       " 0.6918759942054749,\n",
       " 0.6914133429527283,\n",
       " 0.6863789558410645,\n",
       " 0.6857227087020874,\n",
       " 0.7038347721099854,\n",
       " 0.6404326558113098,\n",
       " 0.7037944197654724,\n",
       " 0.6974837779998779,\n",
       " 99.9122085571289,\n",
       " 0.6966659426689148,\n",
       " 0.7071210741996765,\n",
       " 0.7021566033363342,\n",
       " 0.6763445138931274,\n",
       " 0.6108864545822144,\n",
       " 0.7013288736343384,\n",
       " 0.8311966061592102,\n",
       " 0.7342395782470703,\n",
       " 0.6601699590682983,\n",
       " 0.7024375796318054,\n",
       " 0.6410589814186096,\n",
       " 0.6171526908874512,\n",
       " 0.6645181775093079,\n",
       " 0.6241170167922974,\n",
       " 0.6641210913658142,\n",
       " 0.6819437146186829,\n",
       " 0.6321548223495483,\n",
       " 0.705069363117218,\n",
       " 0.7183994054794312,\n",
       " 0.7136362195014954,\n",
       " 0.680601954460144,\n",
       " 0.6903808116912842,\n",
       " 0.693329930305481,\n",
       " 0.6689020395278931,\n",
       " 0.7014787197113037,\n",
       " 0.6905767321586609,\n",
       " 0.6880691647529602,\n",
       " 0.6951116323471069,\n",
       " 0.6959050893783569,\n",
       " 0.6881094574928284,\n",
       " 0.6878665685653687,\n",
       " 0.6861388683319092,\n",
       " 0.6802477240562439,\n",
       " 0.7047232985496521,\n",
       " 0.6639891266822815,\n",
       " 0.7191153168678284,\n",
       " 0.680371105670929,\n",
       " 0.7121476531028748,\n",
       " 0.7245396971702576,\n",
       " 0.6918197870254517,\n",
       " 0.6710920929908752,\n",
       " 0.5857924818992615]"
      ]
     },
     "execution_count": 39,
     "metadata": {},
     "output_type": "execute_result"
    }
   ],
   "source": [
    "train(3)\n"
   ]
  },
  {
   "cell_type": "code",
   "execution_count": 50,
   "metadata": {},
   "outputs": [],
   "source": [
    "def accuracy():\n",
    "    model.eval() #set the model to evaluation mode\n",
    "     #Calculate the overall performance of the network\n",
    "    correctHits=0\n",
    "    total=0\n",
    "    accuracy=0\n",
    "    for batches in test_loader:\n",
    "        data,output = batches\n",
    "        data=data.unsqueeze(1).type(torch.FloatTensor)\n",
    "        prediction = model(data)\n",
    "        _,prediction = torch.max(prediction.data,1)  #returns max as well as its index\n",
    "        total += output.size(0)\n",
    "        correctHits += (prediction==output).sum().item()\n",
    "        accuracy = (correctHits/total)*100\n",
    "\n",
    "\n",
    "        print('Accuracy = '+str(accuracy))\n"
   ]
  },
  {
   "cell_type": "code",
   "execution_count": 51,
   "metadata": {},
   "outputs": [
    {
     "name": "stdout",
     "output_type": "stream",
     "text": [
      "Accuracy = 54.0\n",
      "Accuracy = 54.0\n",
      "Accuracy = 55.333333333333336\n",
      "Accuracy = 53.5\n",
      "Accuracy = 53.6\n",
      "Accuracy = 55.666666666666664\n",
      "Accuracy = 55.42857142857143\n",
      "Accuracy = 55.75\n",
      "Accuracy = 56.222222222222214\n",
      "Accuracy = 56.39999999999999\n",
      "Accuracy = 56.18181818181818\n",
      "Accuracy = 56.00000000000001\n",
      "Accuracy = 56.61538461538461\n",
      "Accuracy = 56.57142857142857\n",
      "Accuracy = 55.46666666666666\n",
      "Accuracy = 54.50000000000001\n",
      "Accuracy = 54.8235294117647\n",
      "Accuracy = 54.44444444444444\n",
      "Accuracy = 54.736842105263165\n",
      "Accuracy = 54.800000000000004\n",
      "Accuracy = 55.23809523809524\n",
      "Accuracy = 56.09090909090909\n",
      "Accuracy = 56.173913043478265\n",
      "Accuracy = 56.25\n",
      "Accuracy = 56.56\n",
      "Accuracy = 56.92307692307692\n",
      "Accuracy = 56.81481481481482\n",
      "Accuracy = 56.85714285714286\n",
      "Accuracy = 56.96551724137932\n",
      "Accuracy = 57.333333333333336\n",
      "Accuracy = 57.41935483870968\n",
      "Accuracy = 57.4375\n",
      "Accuracy = 57.3939393939394\n",
      "Accuracy = 57.647058823529406\n",
      "Accuracy = 57.599999999999994\n",
      "Accuracy = 57.44444444444444\n",
      "Accuracy = 57.351351351351354\n",
      "Accuracy = 57.52631578947368\n",
      "Accuracy = 57.64102564102564\n",
      "Accuracy = 57.75\n",
      "Accuracy = 57.512195121951216\n",
      "Accuracy = 57.666666666666664\n",
      "Accuracy = 57.581395348837205\n",
      "Accuracy = 57.59090909090909\n",
      "Accuracy = 57.46666666666667\n",
      "Accuracy = 57.30434782608695\n",
      "Accuracy = 57.40425531914893\n",
      "Accuracy = 57.458333333333336\n",
      "Accuracy = 57.55102040816327\n",
      "Accuracy = 57.56\n",
      "Accuracy = 57.607843137254896\n",
      "Accuracy = 57.57692307692308\n",
      "Accuracy = 57.69811320754717\n",
      "Accuracy = 57.55555555555556\n",
      "Accuracy = 57.527272727272724\n",
      "Accuracy = 57.53571428571429\n",
      "Accuracy = 57.36842105263158\n",
      "Accuracy = 57.17241379310345\n",
      "Accuracy = 57.11864406779661\n",
      "Accuracy = 56.99999999999999\n",
      "Accuracy = 56.91803278688524\n",
      "Accuracy = 56.935483870967744\n",
      "Accuracy = 57.17460317460318\n",
      "Accuracy = 57.09375\n",
      "Accuracy = 57.01538461538461\n",
      "Accuracy = 57.060606060606055\n",
      "Accuracy = 56.835820895522396\n",
      "Accuracy = 56.76470588235294\n",
      "Accuracy = 56.724637681159415\n",
      "Accuracy = 56.82857142857143\n",
      "Accuracy = 56.87323943661971\n",
      "Accuracy = 56.97222222222222\n",
      "Accuracy = 57.041095890410965\n",
      "Accuracy = 57.027027027027025\n",
      "Accuracy = 57.04\n",
      "Accuracy = 57.10526315789474\n",
      "Accuracy = 57.1948051948052\n",
      "Accuracy = 57.128205128205124\n",
      "Accuracy = 57.08860759493671\n",
      "Accuracy = 57.15\n",
      "Accuracy = 57.20987654320988\n",
      "Accuracy = 57.24390243902439\n",
      "Accuracy = 57.27710843373494\n",
      "Accuracy = 57.23809523809524\n",
      "Accuracy = 57.03529411764706\n",
      "Accuracy = 57.09302325581396\n",
      "Accuracy = 57.24137931034483\n",
      "Accuracy = 57.25\n",
      "Accuracy = 57.10112359550562\n",
      "Accuracy = 57.08888888888889\n",
      "Accuracy = 57.07944962272526\n"
     ]
    }
   ],
   "source": [
    "accuracy()"
   ]
  },
  {
   "cell_type": "code",
   "execution_count": 56,
   "metadata": {},
   "outputs": [
    {
     "name": "stdout",
     "output_type": "stream",
     "text": [
      "Confusion matrix:\n",
      "[[2572    0]\n",
      " [1934    0]]\n",
      "F1 score: 0.570794\n",
      "Accuracy score: 0.570794\n"
     ]
    }
   ],
   "source": [
    "from sklearn.metrics import confusion_matrix\n",
    "from sklearn.metrics import f1_score\n",
    "from sklearn.metrics import accuracy_score\n",
    "def test_label_predictions(test_loader):\n",
    "    model.eval()\n",
    "    actuals = []\n",
    "    predictions = []\n",
    "    with torch.no_grad():\n",
    "        for data, target in test_loader:\n",
    "            data=data.unsqueeze(1).type(torch.FloatTensor)\n",
    "            output = model(data)\n",
    "            prediction = output.argmax(dim=1, keepdim=True)\n",
    "            actuals.extend(target.view_as(prediction))\n",
    "            predictions.extend(prediction)\n",
    "    return [i.item() for i in actuals], [i.item() for i in predictions]\n",
    "\n",
    "actuals, predictions = test_label_predictions(test_loader)\n",
    "print('Confusion matrix:')\n",
    "print(confusion_matrix(actuals, predictions))\n",
    "print('F1 score: %f' % f1_score(actuals, predictions, average='micro'))\n",
    "print('Accuracy score: %f' % accuracy_score(actuals, predictions))"
   ]
  },
  {
   "cell_type": "code",
   "execution_count": 70,
   "metadata": {},
   "outputs": [],
   "source": [
    "from sklearn.metrics import roc_curve, auc\n",
    "\n",
    "def test_class_probabilities(test_loader, which_class):\n",
    "    model.eval()\n",
    "    actuals = []\n",
    "    probabilities = []\n",
    "    with torch.no_grad():\n",
    "        for data, target in test_loader:\n",
    "            data=data.unsqueeze(1).type(torch.FloatTensor)\n",
    "            output = model(data)\n",
    "            prediction = output.argmax(dim= -1, keepdim=True)\n",
    "            actuals.extend(target.view_as(prediction) == which_class)\n",
    "            probabilities.extend(np.exp(output[:, which_class]))\n",
    "    return [i.item() for i in actuals], [i.item() for i in probabilities]\n"
   ]
  },
  {
   "cell_type": "code",
   "execution_count": 72,
   "metadata": {},
   "outputs": [
    {
     "data": {
      "image/png": "[encoded data removed]",
      "text/plain": [
       "<Figure size 432x288 with 1 Axes>"
      ]
     },
     "metadata": {
      "needs_background": "light"
     },
     "output_type": "display_data"
    }
   ],
   "source": [
    "\n",
    "which_class =1\n",
    "actuals, class_probabilities = test_class_probabilities(test_loader, which_class)\n",
    "\n",
    "fpr, tpr, _ = roc_curve(actuals, class_probabilities)\n",
    "roc_auc = auc(fpr, tpr)\n",
    "plt.figure()\n",
    "lw = 2\n",
    "plt.plot(fpr, tpr, color='darkorange',\n",
    "         lw=lw, label='ROC curve (area = %0.2f)' % roc_auc)\n",
    "plt.plot([0, 1], [0, 1], color='navy', lw=lw, linestyle='--')\n",
    "plt.xlim([0.0, 1.0])\n",
    "plt.ylim([0.0, 1.05])\n",
    "plt.xlabel('False Positive Rate')\n",
    "plt.ylabel('True Positive Rate')\n",
    "plt.title('ROC for digit=%d class' % which_class)\n",
    "plt.legend(loc=\"lower right\")\n",
    "plt.show()"
   ]
  },
  {
   "cell_type": "code",
   "execution_count": null,
   "metadata": {},
   "outputs": [],
   "source": []
  }
 ],
 "metadata": {
  "kernelspec": {
   "display_name": "Python 3",
   "language": "python",
   "name": "python3"
  },
  "language_info": {
   "codemirror_mode": {
    "name": "ipython",
    "version": 3
   },
   "file_extension": ".py",
   "mimetype": "text/x-python",
   "name": "python",
   "nbconvert_exporter": "python",
   "pygments_lexer": "ipython3",
   "version": "3.6.8"
  }
 },
 "nbformat": 4,
 "nbformat_minor": 2
}
